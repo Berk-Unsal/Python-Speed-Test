{
 "cells": [
  {
   "cell_type": "markdown",
   "metadata": {},
   "source": [
    "\n",
    "### System Information:\n",
    "Operating System: Windows 11\n",
    "\n",
    "\n",
    "\n",
    "CPU: # CHANGE HERE\n",
    "    13th Gen Intel(R) Core(TM) i5-13500H\n",
    "    Base Speed: 2.60 GHz\n",
    "    Cores: 12\n",
    "    Threads: 16\n",
    "    Virtualization: Enabled\n",
    "    L1 Cache: 1.1 MB\n",
    "    L2 Cache: 9.0 MB\n",
    "    L3 Cache: 18.0 MB\n",
    "\n",
    "    \n",
    "RAM: # CHANGE HERE\n",
    "    Memory: 16.0 GB\n",
    "    Speed: 3200 MHz\n",
    "    Used Slots: 2 / 2\n",
    "    Form Factor: SODIMM\n",
    "    Reserved for Hardware: 360 MB\n",
    "    Available: 4.4 GB\n",
    "    Cached: 4.2 GB\n",
    "    Committed: 16.2/23.2 GB\n",
    "    Disk Cache Pool: 781 MB\n",
    "    Non-Paged Pool: 678 MB\n",
    "    Used (Compressed): 11.1 GB (941 MB)"
   ]
  },
  {
   "cell_type": "code",
   "execution_count": 91,
   "metadata": {},
   "outputs": [
    {
     "name": "stdout",
     "output_type": "stream",
     "text": [
      "Time taken to create a list : 7.670000195503234e-08\n",
      "Time taken to create an array : 3.601000062189996e-07\n"
     ]
    }
   ],
   "source": [
    "import numpy as np\n",
    "import timeit as ti\n",
    "\n",
    "\n",
    "time_list = ti.timeit('my_list = [1]', number=1000)\n",
    "time_list_seconds = time_list / 1000\n",
    "\n",
    "\n",
    "time_array = ti.timeit('my_array = np.array([1])', setup='import numpy as np', number=1000)\n",
    "time_array_seconds = time_array / 1000\n",
    "\n",
    "\n",
    "print(\"Time taken to create a list :\", time_list_seconds) # last execution : 7.690000347793102e-05\n",
    "print(\"Time taken to create an array :\", time_array_seconds) # last execution : 0.0004175000067334622\n"
   ]
  },
  {
   "cell_type": "code",
   "execution_count": 92,
   "metadata": {},
   "outputs": [
    {
     "name": "stdout",
     "output_type": "stream",
     "text": [
      "Time taken to create a list : 1.2817000097129494e-06\n",
      "Time taken to create an array : 1.9068999972660094e-06\n"
     ]
    }
   ],
   "source": [
    "time_list = ti.timeit('my_list = [i for i in range(10)]', number=1000)\n",
    "time_list_seconds = time_list / 1000\n",
    "\n",
    "time_array = ti.timeit('my_array = np.array([i for i in range(10)])', setup='import numpy as np', number=1000)\n",
    "time_array_seconds = time_array / 1000\n",
    "\n",
    "print(\"Time taken to create a list :\", time_list_seconds) # last execution : 0.001292799977818504\n",
    "print(\"Time taken to create an array :\", time_array_seconds) # last execution : 0.002053400006843731\n"
   ]
  },
  {
   "cell_type": "code",
   "execution_count": 93,
   "metadata": {},
   "outputs": [
    {
     "name": "stdout",
     "output_type": "stream",
     "text": [
      "Time taken to create a list : 6.345799978589639e-06\n",
      "Time taken to create an array : 2.465099998516962e-06\n"
     ]
    }
   ],
   "source": [
    "time_list = ti.timeit('my_list = [i for i in range(100)]', number=1000)\n",
    "time_list_seconds = time_list / 1000\n",
    "\n",
    "time_array = ti.timeit('my_array = np.array(i for i in range(10))', setup='import numpy as np', number=1000)\n",
    "time_array_seconds = time_array / 1000\n",
    "\n",
    "print(\"Time taken to create a list :\", time_list_seconds) # last execution : 0.005981800000881776\n",
    "print(\"Time taken to create an array :\", time_array_seconds) # last execution : 0.002237899985630065\n"
   ]
  },
  {
   "cell_type": "code",
   "execution_count": null,
   "metadata": {},
   "outputs": [],
   "source": []
  },
  {
   "cell_type": "code",
   "execution_count": 94,
   "metadata": {},
   "outputs": [
    {
     "name": "stdout",
     "output_type": "stream",
     "text": [
      "Time taken to create a list : 6.745020000380464e-05\n",
      "Time taken to create an array : 3.344699973240495e-06\n"
     ]
    }
   ],
   "source": [
    "time_list = ti.timeit('my_list = [i for i in range(1000)]', number=1000)\n",
    "time_list_seconds = time_list / 1000\n",
    "\n",
    "time_array = ti.timeit('my_array = np.array(i for i in range(1000))', setup='import numpy as np', number=1000)\n",
    "time_array_seconds = time_array / 1000\n",
    "\n",
    "print(\"Time taken to create a list :\", time_list_seconds) # last execution : 0.057121300022117794\n",
    "print(\"Time taken to create an array :\", time_array_seconds) # last execution: 0.0023022999812383205\n"
   ]
  },
  {
   "cell_type": "code",
   "execution_count": 95,
   "metadata": {},
   "outputs": [
    {
     "name": "stdout",
     "output_type": "stream",
     "text": [
      "Time taken to create a list : 0.000531450800015591\n",
      "Time taken to create an array : 0.0008347133999923244\n"
     ]
    }
   ],
   "source": [
    "time_list = ti.timeit('my_list = [i for i in range(10000)]', number=1000)\n",
    "time_list_seconds = time_list / 1000\n",
    "\n",
    "time_array = ti.timeit('my_array = np.array([i for i in range(10000)])', setup='import numpy as np', number=1000)\n",
    "time_array_seconds = time_array / 1000\n",
    "\n",
    "print(\"Time taken to create a list :\", time_list_seconds) # last execution: 0.5477184999908786\n",
    "print(\"Time taken to create an array :\", time_array_seconds) # last execution : 0.84965230000671\n"
   ]
  },
  {
   "cell_type": "code",
   "execution_count": 96,
   "metadata": {},
   "outputs": [
    {
     "name": "stdout",
     "output_type": "stream",
     "text": [
      "Time taken to create a list : 0.0055659149999846705\n",
      "Time taken to create an array : 2.191800012951717e-06\n"
     ]
    }
   ],
   "source": [
    "time_list = ti.timeit('my_list = [i for i in range(100000)]', number=1000)\n",
    "time_list_seconds = time_list / 1000\n",
    "\n",
    "time_array = ti.timeit('my_array = np.array(i for i in range(10))', setup='import numpy as np', number=1000)\n",
    "time_array_seconds = time_array / 1000\n",
    "\n",
    "print(\"Time taken to create a list :\", time_list_seconds) # last execution : 5.257648800004972\n",
    "print(\"Time taken to create an array :\", time_array_seconds) # last execution : 0.002215399988926947\n"
   ]
  },
  {
   "cell_type": "code",
   "execution_count": 97,
   "metadata": {},
   "outputs": [
    {
     "name": "stdout",
     "output_type": "stream",
     "text": [
      "Time taken to create a list : 0.06536334340000757\n",
      "Time taken to create an array : 0.09190994039998622\n"
     ]
    }
   ],
   "source": [
    "time_list = ti.timeit('my_list = [i for i in range(1000000)]', number=1000)\n",
    "time_list_seconds = time_list / 1000\n",
    "\n",
    "time_array = ti.timeit('my_array = np.array([i for i in range(1000000)])', setup='import numpy as np', number=1000)\n",
    "time_array_seconds = time_array / 1000\n",
    "\n",
    "print(\"Time taken to create a list :\", time_list_seconds) # LAST EXECUTION : 0.06536334340000757\n",
    "\n",
    "print(\"Time taken to create an array :\", time_array_seconds)# LAST EXECUTION : 0.09190994039998622\n"
   ]
  }
 ],
 "metadata": {
  "kernelspec": {
   "display_name": "base",
   "language": "python",
   "name": "python3"
  },
  "language_info": {
   "codemirror_mode": {
    "name": "ipython",
    "version": 3
   },
   "file_extension": ".py",
   "mimetype": "text/x-python",
   "name": "python",
   "nbconvert_exporter": "python",
   "pygments_lexer": "ipython3",
   "version": "3.11.3"
  }
 },
 "nbformat": 4,
 "nbformat_minor": 2
}
